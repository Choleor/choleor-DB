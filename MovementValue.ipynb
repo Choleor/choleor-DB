{
 "cells": [
  {
   "cell_type": "markdown",
   "metadata": {},
   "source": [
    "움직임 크기 계산하기\n",
    "\n",
    "1. 여덟 박자 단위로 잘린 영상 가져오기\n",
    "2. 영상을 9개 구간으로 나눠서(박자마다) 포즈 값 불러오기\n",
    "3. 포즈 값을 하나씩 불러 올 때마다 움직임 값 상위 3개 합쳐서 저장\n",
    "\n",
    "이 코드는 중간에 pose estimation를 수행하는 구간이 있습니다.<br><br>\n",
    "때문에 openpose 설치의 번거로움을 덜기 위해(또한 설치를 한다 하더라도 제가 openpose의 코드 중 key_point_coordinates.csv를 작성하도록 수정한 부분이 반영되어 있지 않기 때문에 이 코드는 제대로 돌지 않습니다.) 제 컴퓨터에서 8beatVid.mp4에 대해 코드를 실행시킨 결과를 보냅니다.<br><br>\n",
    "아래 블록의 코드를 실행시키면 결과값이 사라지니 주의해주세요."
   ]
  },
  {
   "cell_type": "code",
   "execution_count": 1,
   "metadata": {
    "scrolled": false
   },
   "outputs": [
    {
     "name": "stdout",
     "output_type": "stream",
     "text": [
      "[387.999717451925, 650.1384147330929, 403.66658652482636, 510.99307483029764, 199.24494956488223, 532.9153926603346, 560.7341358987442, 408.90424735394674]\n"
     ]
    }
   ],
   "source": [
    "import os\n",
    "import cv2\n",
    "import csv\n",
    "\n",
    "#여덟 박자 단위로 잘린 영상을 불러온다.\n",
    "vidcap = cv2.VideoCapture('8beatVid.mp4')\n",
    "frame_num = vidcap.get(cv2.CAP_PROP_FRAME_COUNT)\n",
    "idx = 0;\n",
    "count = 0;\n",
    "\n",
    "front = [([0]*2)]*18\n",
    "back = [([0]*2)]*18\n",
    "\n",
    "value = [0]*8\n",
    "\n",
    "first_time = True\n",
    "\n",
    "while(vidcap.isOpened()):\n",
    "    ret, image = vidcap.read()\n",
    "    \n",
    "    if ret == False:\n",
    "        break\n",
    "    \n",
    "    #0/8 ~ 8/8까지 총 9개 구간에서 pose estimation 수행\n",
    "    if count == (int)((frame_num-2) * idx / 8):\n",
    "        cv2.imwrite('movementImage.jpg', image)\n",
    "        os.system('python tf_openpose/run.py --model=cmu --resize=432x368 --image=movementImage.jpg')\n",
    "        \n",
    "        #front에는 이전 단계에서 back에 저장했던 값을 저장\n",
    "        front = []\n",
    "        for i in range(18):\n",
    "            front.append(back[i])\n",
    "        \n",
    "        #pose estimation 수행중에 생성되는 각 관절 위치가 저장되어있는 csv 파일\n",
    "        key_point_csv = open('key_point_coordinates.csv','r')\n",
    "        \n",
    "        back = []\n",
    "        key_point_raw = []\n",
    "\n",
    "        for line in key_point_csv:\n",
    "            key_point_raw.append(line.strip('\\n'))\n",
    "\n",
    "        for i in range(0, len(key_point_raw)):\n",
    "            back.append(key_point_raw[i].split(','))\n",
    "        \n",
    "        #18, 19행에는 pose estimation으로 나온 값중 x좌표값들의 평균값과 y좌표 값들의 최소값이 저장되어있음\n",
    "        x_mean = int(back[18][0].strip())\n",
    "        y_min = int(back[19][0].strip())\n",
    "\n",
    "        #0 ~ 17행에는 pose estimation으로 나온 각 관절의 위치 값이 저장되어있음\n",
    "        for i in range(0, 18):\n",
    "            back[i][0] = int(back[i][0].strip())\n",
    "            back[i][1] = int(back[i][1].strip())\n",
    "            \n",
    "            #결과 값이 0일 경우는 pose estimation에서 detection이 제대로 수행되지 않은 경우\n",
    "            #이를 제외하고는 x값에서는 x의 평균 값을 빼고, y값에서는 y의 최소값을 빼서 인물의 위치를 동일하게 맞춰 포즈의 변화 정도를 정확히 측정하도록 한다.\n",
    "            if back[i][0] != 0 or back[i][1] != 0 :\n",
    "                back[i][0] -= x_mean\n",
    "                back[i][1] -= y_min\n",
    "        \n",
    "        #처음 수행할때는 front 값이 모두 0으로 셋팅되어있기 때문에 front와 back의 차이를 연산하는 과정은 스킵한다.\n",
    "        if first_time:\n",
    "            first_time = False\n",
    "            idx += 1\n",
    "            continue\n",
    "        \n",
    "        dist = [0]*18\n",
    "        \n",
    "        #front와 end 사이에서 동일한 관절간의 직선 거리를 구한다. 하지만 둘,중 하나의 좌표값이 0이라면 정상적인 값이 아니기 때문에 비정상이라는 의미로 dist를 0으로 한다.\n",
    "        for i in range(18):\n",
    "            if (front[i][0] == 0 and front[i][1] == 0) or (back[i][0] == 0 and back[i][1] == 0):\n",
    "                dist[i] = 0\n",
    "            else:\n",
    "                dist[i] = pow(pow((front[i][0] - back[i][0]), 2) + pow((front[i][1] - back[i][1]), 2), 0.5)\n",
    "                \n",
    "        dist.sort(reverse = True)\n",
    "        \n",
    "        #상위 세 개의 dist값을 더해서 출력한다.\n",
    "        for i in range(3):\n",
    "            value[idx-1] += dist[i]\n",
    "        idx += 1\n",
    "        \n",
    "    count += 1\n",
    "    \n",
    "print(value)"
   ]
  },
  {
   "cell_type": "code",
   "execution_count": null,
   "metadata": {},
   "outputs": [],
   "source": []
  }
 ],
 "metadata": {
  "kernelspec": {
   "display_name": "Python 3",
   "language": "python",
   "name": "python3"
  },
  "language_info": {
   "codemirror_mode": {
    "name": "ipython",
    "version": 3
   },
   "file_extension": ".py",
   "mimetype": "text/x-python",
   "name": "python",
   "nbconvert_exporter": "python",
   "pygments_lexer": "ipython3",
   "version": "3.7.3"
  }
 },
 "nbformat": 4,
 "nbformat_minor": 2
}
