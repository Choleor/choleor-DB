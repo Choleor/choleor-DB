{
 "cells": [
  {
   "cell_type": "code",
   "execution_count": 1,
   "metadata": {},
   "outputs": [],
   "source": [
    "#이 부분은 커널 시작할때 한번만 실행\n",
    "\n",
    "import csv\n",
    "import youtube_dl\n",
    "import os\n",
    "import cv2\n",
    "import numpy as np\n",
    "\n",
    "def sec_to_time(sec):\n",
    "    time = \"\"\n",
    "    temp = 0\n",
    "    \n",
    "    for i in range(3):\n",
    "        temp = sec % 60\n",
    "        if temp < 10:\n",
    "            time = \"0\" + str(temp) + time\n",
    "        else:\n",
    "            time = str(sec % 60) + time\n",
    "        sec = sec // 60\n",
    "        \n",
    "        if i < 2:\n",
    "            time = \":\" + time\n",
    "    \n",
    "    return time\n",
    "\n"
   ]
  },
  {
   "cell_type": "code",
   "execution_count": 100,
   "metadata": {
    "scrolled": false
   },
   "outputs": [
    {
     "name": "stdout",
     "output_type": "stream",
     "text": [
      "[youtube] yvTsAR0vI9g: Downloading webpage\n"
     ]
    },
    {
     "data": {
      "text/plain": [
       "0"
      ]
     },
     "execution_count": 100,
     "metadata": {},
     "output_type": "execute_result"
    }
   ],
   "source": [
    "#작업하는 영상 바뀔때만 입력 정보 바꿔서 실행\n",
    "#실행할때마다 이름이 vid.mp4, audio.wav인 파일을 삭제하니 주의\n",
    "\n",
    "# 손으로 입력해줄 정보들\n",
    "\n",
    "vidlink = 'https://www.youtube.com/watch?v=yvTsAR0vI9g';\n",
    "start_sec = 4\n",
    "end_sec = 48\n",
    "\n",
    "# start & end sec 기준으로 잘라진 영상 다운로드, 영상에서 오디오 추출\n",
    "\n",
    "ydl = youtube_dl.YoutubeDL({'format': '18'}, )\n",
    "\n",
    "with ydl:\n",
    "    video = ydl.extract_info(\n",
    "        vidlink,\n",
    "        download=False\n",
    "    )\n",
    "url = video['url']\n",
    "fps = video['fps']\n",
    "\n",
    "start_time = sec_to_time(start_sec)\n",
    "duration_time = sec_to_time(end_sec - start_sec)\n",
    "\n",
    "if os.path.exists('vid.mp4'):\n",
    "    os.remove('vid.mp4')\n",
    "if os.path.exists('audio.wav'):\n",
    "    os.remove('audio.wav')\n",
    "os.system(\"ffmpeg -i '%s' -ss %s -t %s -async 1 -strict -2 'vid.mp4'\" % (url, start_time, duration_time))\n",
    "os.system(\"ffmpeg -i vid.mp4 -ab 160k -ac 2 -ar 44100 -vn audio.wav\")"
   ]
  },
  {
   "cell_type": "code",
   "execution_count": 102,
   "metadata": {},
   "outputs": [
    {
     "name": "stdout",
     "output_type": "stream",
     "text": [
      "fps:  30\n",
      "8박자에 소요되는 프레임 수:  100.0\n",
      "1박자에 소요되는 프레임 수:  12.5\n"
     ]
    }
   ],
   "source": [
    "##### padding 수정할때마다 실행, 실행 후 output.mp4 확인하면 됨\n",
    "##8박자마다 frame 수, 1박자마다 frame 수가 하단에 출력되니 참고해서 padding 작성\n",
    "##padding이 잘 지정된 것 같으면 slice_frame.csv의 값을 복사해서 google drive의\n",
    "# 스프레드시트에 복사\n",
    "\n",
    "bpm = 144\n",
    "padding = 30\n",
    "\n",
    "# 8박자에 들어가는 frame 수 계산\n",
    "frame_per_min = fps*60\n",
    "frame_per_8beat = frame_per_min * 8/bpm\n",
    "print(\"fps: \", fps)\n",
    "print(\"8박자에 소요되는 프레임 수: \", frame_per_8beat)\n",
    "print(\"1박자에 소요되는 프레임 수: \", frame_per_8beat/8)\n",
    "\n",
    "#8박자마다 4frame 이미지를 검정색으로 변환\n",
    "vidcap = cv2.VideoCapture('vid.mp4')\n",
    "\n",
    "width = vidcap.get(cv2.CAP_PROP_FRAME_WIDTH)\n",
    "height = vidcap.get(cv2.CAP_PROP_FRAME_HEIGHT)\n",
    "fourcc = cv2.VideoWriter_fourcc('F', 'M', 'P', '4')\n",
    "out = cv2.VideoWriter('vid2.mp4', fourcc, fps, (int(width), int(height)))\n",
    "\n",
    "count = 0\n",
    "slice_frame = padding\n",
    "\n",
    "start = 0;\n",
    "end = 0;\n",
    "\n",
    "flag = False\n",
    "frame = []\n",
    "with open('slice_frame.csv', 'w', newline='') as f:\n",
    "    makewrite = csv.writer(f)\n",
    "    while(vidcap.isOpened()):\n",
    "        ret, image = vidcap.read()\n",
    "        count += 1\n",
    "\n",
    "        if ret == False:\n",
    "                break\n",
    "\n",
    "        if(count >= (int(slice_frame)) and count <= (int(slice_frame)+1)):\n",
    "            if(count == int(slice_frame)+1):\n",
    "                start = end\n",
    "                end = count\n",
    "                frame.append(str(start-20)+'~'+str(end+20))\n",
    "            black = np.zeros((int(height), int(width), 3), np.uint8)\n",
    "            out.write(black)\n",
    "            flag = True\n",
    "        else:\n",
    "            if flag == True:\n",
    "                slice_frame += frame_per_8beat\n",
    "                flag = False\n",
    "            out.write(image)\n",
    "\n",
    "    out.release()\n",
    "    vidcap.release()\n",
    "    makewrite.writerow(frame)\n",
    "    \n",
    "# 편집된 영상과 소리 합치기\n",
    "if os.path.exists('output.mp4'):\n",
    "    os.remove('output.mp4')\n",
    "os.system(\"ffmpeg -i vid2.mp4 -i audio.wav -c:v copy -c:a aac output.mp4\")\n",
    "os.remove('vid2.mp4')"
   ]
  }
 ],
 "metadata": {
  "kernelspec": {
   "display_name": "Python 3",
   "language": "python",
   "name": "python3"
  },
  "language_info": {
   "codemirror_mode": {
    "name": "ipython",
    "version": 3
   },
   "file_extension": ".py",
   "mimetype": "text/x-python",
   "name": "python",
   "nbconvert_exporter": "python",
   "pygments_lexer": "ipython3",
   "version": "3.7.3"
  }
 },
 "nbformat": 4,
 "nbformat_minor": 2
}
